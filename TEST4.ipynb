{
 "cells": [
  {
   "cell_type": "code",
   "execution_count": 1,
   "id": "aae07237",
   "metadata": {},
   "outputs": [
    {
     "name": "stdout",
     "output_type": "stream",
     "text": [
      "END OF THE SCRIPT\n"
     ]
    }
   ],
   "source": [
    "import os \n",
    "from dotenv import load_dotenv\n",
    "load_dotenv()\n",
    "from agents import Agent, Runner,function_tool,trace, ItemHelpers, MessageOutputItem\n",
    "import nest_asyncio\n",
    "nest_asyncio.apply()\n",
    "# setting up api key\n",
    "os.environ[\"OPENAI_API_KEY\"] = os.environ['OPENAI_API_KEY_MALI']\n",
    "import wikipedia\n",
    "import openmeteo_requests\n",
    "import requests_cache\n",
    "# from retry_requests import retry\n",
    "import requests\n",
    "from agents.extensions.visualization import draw_graph\n",
    "\n",
    "import json \n",
    "import requests\n",
    "from serpapi import GoogleSearch\n",
    "api_key = os.getenv(\"SERPAPI_API_KEY\")\n",
    "\n",
    "\n",
    "from openai.types.responses import (\n",
    "    ResponseFunctionCallArgumentsDeltaEvent,  # tool call streaming\n",
    "    ResponseCreatedEvent,  # start of new event like tool call or final answer\n",
    ")\n",
    "\n",
    "from tools import flight_search, yelp_search, hotels_search, wikipedia_search, get_weather\n",
    "from pydantic import BaseModel\n",
    "from models import first_agent_output\n",
    "from agents.model_settings import ModelSettings\n",
    "from data_models.flight_data_models import FlightSearchResults\n",
    "\n",
    "from travel_agents import question_rewrite_agent, flight_agent\n",
    "from functions import flight_search"
   ]
  },
  {
   "cell_type": "code",
   "execution_count": 2,
   "id": "961f3e09",
   "metadata": {},
   "outputs": [],
   "source": [
    "main_question = \"\"\"I want to travel from ankara to istanbul. The outbound date is 2025-05-05 and the return date will be 2025-05-11. \n",
    "I also need a hotel to stay. I do not like smell of cigarette. If possible, I want to see the rooms where smoking is not allowed. \n",
    "In addition to that, I like eating sea food. I guess istanbul is very rich city interms of sea restaurants\"\"\".strip()\n",
    "\n",
    "question_rewrite_agent_output = Runner.run_sync(question_rewrite_agent,main_question)"
   ]
  },
  {
   "cell_type": "code",
   "execution_count": 3,
   "id": "e7992af4",
   "metadata": {},
   "outputs": [
    {
     "data": {
      "text/plain": [
       "FinalModel(flight_reqs=FlightOutput(departure_id='ANK', arrival_id='IST', outbound_data='2025-05-05', return_data='2025-05-11'), yelp_reqs=YelpOutput(search_term='sea food', location='Istanbul'), hotel_reqs=HotelOutput(query='Istanbul', check_in_date='2025-05-05', check_out_date='2025-05-11', gl='non-smoking'))"
      ]
     },
     "execution_count": 3,
     "metadata": {},
     "output_type": "execute_result"
    }
   ],
   "source": [
    "question_rewrite_agent_output.final_output"
   ]
  },
  {
   "cell_type": "code",
   "execution_count": 4,
   "id": "c051e32a",
   "metadata": {},
   "outputs": [
    {
     "data": {
      "text/plain": [
       "FinalModel(flight_reqs=FlightOutput(departure_id='ANK', arrival_id='IST', outbound_data='2025-05-05', return_data='2025-05-11'), yelp_reqs=YelpOutput(search_term='sea food', location='Istanbul'), hotel_reqs=HotelOutput(query='Istanbul', check_in_date='2025-05-05', check_out_date='2025-05-11', gl='non-smoking'))"
      ]
     },
     "execution_count": 4,
     "metadata": {},
     "output_type": "execute_result"
    }
   ],
   "source": [
    "question_rewrite_agent_output.final_output"
   ]
  },
  {
   "cell_type": "code",
   "execution_count": 5,
   "id": "85c6d020",
   "metadata": {},
   "outputs": [
    {
     "ename": "NameError",
     "evalue": "name 'elma' is not defined",
     "output_type": "error",
     "traceback": [
      "\u001b[31m---------------------------------------------------------------------------\u001b[39m",
      "\u001b[31mNameError\u001b[39m                                 Traceback (most recent call last)",
      "\u001b[36mCell\u001b[39m\u001b[36m \u001b[39m\u001b[32mIn[5]\u001b[39m\u001b[32m, line 1\u001b[39m\n\u001b[32m----> \u001b[39m\u001b[32m1\u001b[39m \u001b[43melma\u001b[49m\n",
      "\u001b[31mNameError\u001b[39m: name 'elma' is not defined"
     ]
    }
   ],
   "source": [
    "elma"
   ]
  },
  {
   "cell_type": "code",
   "execution_count": null,
   "id": "f9a80379",
   "metadata": {},
   "outputs": [
    {
     "data": {
      "text/plain": [
       "'2025-05-11'"
      ]
     },
     "execution_count": 5,
     "metadata": {},
     "output_type": "execute_result"
    }
   ],
   "source": [
    "question_rewrite_agent_output.final_output.flight_reqs.return_data"
   ]
  },
  {
   "cell_type": "code",
   "execution_count": null,
   "id": "7cee0fae",
   "metadata": {},
   "outputs": [],
   "source": [
    "# flight_results = Runner.run_sync(flight_agent,main_question)"
   ]
  },
  {
   "cell_type": "code",
   "execution_count": null,
   "id": "8981458b",
   "metadata": {},
   "outputs": [
    {
     "name": "stderr",
     "output_type": "stream",
     "text": [
      "C:\\Users\\user\\AppData\\Local\\Temp\\ipykernel_30100\\3572277655.py:10: PydanticDeprecatedSince20: The `parse_obj` method is deprecated; use `model_validate` instead. Deprecated in Pydantic V2.0 to be removed in V3.0. See Pydantic V2 Migration Guide at https://errors.pydantic.dev/2.11/migration/\n",
      "  flight_results = FlightSearchResults.parse_obj(x)  # Use parse_obj with dict\n"
     ]
    }
   ],
   "source": [
    "x = flight_search(\n",
    "    # departure_id= \"ESB\",\n",
    "    # arrival_id='AMS',\n",
    "    departure_id=question_rewrite_agent_output.final_output.flight_reqs.departure_id, \n",
    "    arrival_id= question_rewrite_agent_output.final_output.flight_reqs.arrival_id ,\n",
    "    outbound_data= question_rewrite_agent_output.final_output.flight_reqs.outbound_data, \n",
    "    return_date = question_rewrite_agent_output.final_output.flight_reqs.return_data\n",
    "    )\n",
    "\n",
    "flight_results = FlightSearchResults.parse_obj(x)  # Use parse_obj with dict\n"
   ]
  },
  {
   "cell_type": "code",
   "execution_count": null,
   "id": "828fb488",
   "metadata": {},
   "outputs": [
    {
     "ename": "NameError",
     "evalue": "name 'elma' is not defined",
     "output_type": "error",
     "traceback": [
      "\u001b[31m---------------------------------------------------------------------------\u001b[39m",
      "\u001b[31mNameError\u001b[39m                                 Traceback (most recent call last)",
      "\u001b[36mCell\u001b[39m\u001b[36m \u001b[39m\u001b[32mIn[8]\u001b[39m\u001b[32m, line 1\u001b[39m\n\u001b[32m----> \u001b[39m\u001b[32m1\u001b[39m \u001b[43melma\u001b[49m\n",
      "\u001b[31mNameError\u001b[39m: name 'elma' is not defined"
     ]
    }
   ],
   "source": [
    "elma"
   ]
  },
  {
   "cell_type": "code",
   "execution_count": null,
   "id": "c93c283f",
   "metadata": {},
   "outputs": [],
   "source": [
    "x"
   ]
  },
  {
   "cell_type": "code",
   "execution_count": null,
   "id": "8eb96abe",
   "metadata": {},
   "outputs": [
    {
     "name": "stderr",
     "output_type": "stream",
     "text": [
      "C:\\Users\\user\\AppData\\Local\\Temp\\ipykernel_30100\\897696582.py:1: PydanticDeprecatedSince20: The `parse_obj` method is deprecated; use `model_validate` instead. Deprecated in Pydantic V2.0 to be removed in V3.0. See Pydantic V2 Migration Guide at https://errors.pydantic.dev/2.11/migration/\n",
      "  flight_results = FlightSearchResults.parse_obj(x)  # Use parse_obj with dict\n"
     ]
    }
   ],
   "source": [
    "flight_results = FlightSearchResults.parse_obj(x)  # Use parse_obj with dict"
   ]
  },
  {
   "cell_type": "code",
   "execution_count": null,
   "id": "05bdf497",
   "metadata": {},
   "outputs": [
    {
     "name": "stdout",
     "output_type": "stream",
     "text": [
      "{\n",
      "  \"search_metadata\": {\n",
      "    \"id\": \"67fc3f83157c4d9bfb2784ac\",\n",
      "    \"status\": \"Success\",\n",
      "    \"json_endpoint\": \"https://serpapi.com/searches/12487f80c39b39af/67fc3f83157c4d9bfb2784ac.json\",\n",
      "    \"created_at\": \"2025-04-13 22:49:39 UTC\",\n",
      "    \"processed_at\": \"2025-04-13 22:49:39 UTC\",\n",
      "    \"google_flights_url\": \"https://www.google.com/travel/flights?hl=en&gl=us&curr=USD&tfs=CBwQAhoeEgoyMDI1LTA1LTA1agcIARIDQU5LcgcIARIDSVNUGh4SCjIwMjUtMDUtMTFqBwgBEgNJU1RyBwgBEgNBTktCAQFIAXABmAEB&tfu=EgIIAQ\",\n",
      "    \"raw_html_file\": \"https://serpapi.com/searches/12487f80c39b39af/67fc3f83157c4d9bfb2784ac.html\",\n",
      "    \"prettify_html_file\": \"https://serpapi.com/searches/12487f80c39b39af/67fc3f83157c4d9bfb2784ac.prettify\",\n",
      "    \"total_time_taken\": 0.89\n",
      "  },\n",
      "  \"search_parameters\": {\n",
      "    \"engine\": \"google_flights\",\n",
      "    \"hl\": \"en\",\n",
      "    \"gl\": \"us\",\n",
      "    \"departure_id\": \"ANK\",\n",
      "    \"arrival_id\": \"IST\",\n",
      "    \"outbound_date\": \"2025-05-05\",\n",
      "    \"return_date\": \"2025-05-11\",\n",
      "    \"currency\": \"USD\",\n",
      "    \"deep_search\": true\n",
      "  },\n",
      "  \"best_flights\": null,\n",
      "  \"other_flights\": null,\n",
      "  \"price_insights\": null,\n",
      "  \"airports\": [\n",
      "    {\n",
      "      \"departure\": [\n",
      "        {\n",
      "          \"airport\": {\n",
      "            \"name\": \"Ankara Etimesgut\",\n",
      "            \"id\": \"ANK\",\n",
      "            \"time\": null\n",
      "          },\n",
      "          \"city\": \"Ankara\",\n",
      "          \"country\": \"Türkiye\",\n",
      "          \"country_code\": \"TR\",\n",
      "          \"image\": \"https://encrypted-tbn1.gstatic.com/images?q=tbn:ANd9GcRUK3ziQkuWj1gJW07IpJ4SECgGIWwGEvjj7S-KgcqLddA3YsRhHduiyyOcDYAkV_yOm8P1SJzbDlgYiA\",\n",
      "          \"thumbnail\": \"https://encrypted-tbn1.gstatic.com/images?q=tbn:ANd9GcRcXUATxdVyvYJ_4ozNt7yUwZaOmsMaytrxUH7_Xt03nechBswqHi-Im43UGzTd-CLlOhVnKfe3kwEDrFi2hLPwU_mSz1twLET_VwB2VkY\"\n",
      "        }\n",
      "      ],\n",
      "      \"arrival\": [\n",
      "        {\n",
      "          \"airport\": {\n",
      "            \"name\": \"Istanbul Airport\",\n",
      "            \"id\": \"IST\",\n",
      "            \"time\": null\n",
      "          },\n",
      "          \"city\": \"İstanbul\",\n",
      "          \"country\": \"Türkiye\",\n",
      "          \"country_code\": \"TR\",\n",
      "          \"image\": \"https://encrypted-tbn2.gstatic.com/images?q=tbn:ANd9GcTCxBjNwAoLrTOKowDJwZyOgqpPqpGuPY1umCd0ey6x2mma7s1rFxR63gC-wiSQxRp8LzzpwbK_vjhTOg\",\n",
      "          \"thumbnail\": \"https://encrypted-tbn2.gstatic.com/images?q=tbn:ANd9GcRiCjiMuHyH5raqgVAMRbLlsvhbz3F-vRqjoeVsLl90nMoNQwTytaomGjUfudBUtd2MtI9VLBNX1nuQ2S3W5ilNuO2DRBxUVEgdJX-XYQQ\"\n",
      "        }\n",
      "      ]\n",
      "    },\n",
      "    {\n",
      "      \"departure\": [\n",
      "        {\n",
      "          \"airport\": {\n",
      "            \"name\": \"Istanbul Airport\",\n",
      "            \"id\": \"IST\",\n",
      "            \"time\": null\n",
      "          },\n",
      "          \"city\": \"İstanbul\",\n",
      "          \"country\": \"Türkiye\",\n",
      "          \"country_code\": \"TR\",\n",
      "          \"image\": \"https://encrypted-tbn2.gstatic.com/images?q=tbn:ANd9GcTCxBjNwAoLrTOKowDJwZyOgqpPqpGuPY1umCd0ey6x2mma7s1rFxR63gC-wiSQxRp8LzzpwbK_vjhTOg\",\n",
      "          \"thumbnail\": \"https://encrypted-tbn2.gstatic.com/images?q=tbn:ANd9GcRiCjiMuHyH5raqgVAMRbLlsvhbz3F-vRqjoeVsLl90nMoNQwTytaomGjUfudBUtd2MtI9VLBNX1nuQ2S3W5ilNuO2DRBxUVEgdJX-XYQQ\"\n",
      "        }\n",
      "      ],\n",
      "      \"arrival\": [\n",
      "        {\n",
      "          \"airport\": {\n",
      "            \"name\": \"Ankara Etimesgut\",\n",
      "            \"id\": \"ANK\",\n",
      "            \"time\": null\n",
      "          },\n",
      "          \"city\": \"Ankara\",\n",
      "          \"country\": \"Türkiye\",\n",
      "          \"country_code\": \"TR\",\n",
      "          \"image\": \"https://encrypted-tbn1.gstatic.com/images?q=tbn:ANd9GcRUK3ziQkuWj1gJW07IpJ4SECgGIWwGEvjj7S-KgcqLddA3YsRhHduiyyOcDYAkV_yOm8P1SJzbDlgYiA\",\n",
      "          \"thumbnail\": \"https://encrypted-tbn1.gstatic.com/images?q=tbn:ANd9GcRcXUATxdVyvYJ_4ozNt7yUwZaOmsMaytrxUH7_Xt03nechBswqHi-Im43UGzTd-CLlOhVnKfe3kwEDrFi2hLPwU_mSz1twLET_VwB2VkY\"\n",
      "        }\n",
      "      ]\n",
      "    }\n",
      "  ]\n",
      "}\n"
     ]
    }
   ],
   "source": [
    "print(flight_results.model_dump_json(indent=2))"
   ]
  },
  {
   "cell_type": "code",
   "execution_count": null,
   "id": "d3158ab9",
   "metadata": {},
   "outputs": [],
   "source": [
    "\n",
    "flight_info = \"\"\n",
    "c = 0\n",
    "for j in flight_results.best_flights:\n",
    "  for i, flight in enumerate(j.flights, start=1):\n",
    "      c += 1\n",
    "      x= f\"\"\"\n",
    "  Flight {c}:\n",
    "    Departure: {flight.departure_airport.name} ({flight.departure_airport.id}) at {flight.departure_airport.time}\n",
    "    Arrival: {flight.arrival_airport.name} ({flight.arrival_airport.id}) at {flight.arrival_airport.time}\n",
    "    Duration: {flight.duration} minutes\n",
    "    Airline: {flight.airline}\n",
    "    Airplane: {flight.airplane}\n",
    "    Class: {flight.travel_class}\n",
    "    Flight Number: {flight.flight_number}\n",
    "    Legroom: {flight.legroom}\n",
    "    Extensions: {', '.join(flight.extensions)}\n",
    "  \"\"\"\n",
    "      flight_info += x\n",
    "\n",
    "\n",
    "for j in flight_results.other_flights:\n",
    "  for i, flight in enumerate(j.flights, start=1):\n",
    "      c += 1\n",
    "      x= f\"\"\"\n",
    "  Flight {c}:\n",
    "    Departure: {flight.departure_airport.name} ({flight.departure_airport.id}) at {flight.departure_airport.time}\n",
    "    Arrival: {flight.arrival_airport.name} ({flight.arrival_airport.id}) at {flight.arrival_airport.time}\n",
    "    Duration: {flight.duration} minutes\n",
    "    Airline: {flight.airline}\n",
    "    Airplane: {flight.airplane}\n",
    "    Class: {flight.travel_class}\n",
    "    Flight Number: {flight.flight_number}\n",
    "    Legroom: {flight.legroom}\n",
    "    Extensions: {', '.join(flight.extensions)}\n",
    "  \"\"\"\n",
    "      flight_info += x\n"
   ]
  },
  {
   "cell_type": "code",
   "execution_count": null,
   "id": "60958669",
   "metadata": {},
   "outputs": [],
   "source": [
    "print(flight_info)"
   ]
  },
  {
   "cell_type": "code",
   "execution_count": null,
   "id": "47d10258",
   "metadata": {},
   "outputs": [],
   "source": [
    "f_agent = Agent(name=\"Flight Assistant agent\",\n",
    "              instructions=f\"You are helpful flight asisstants try to answer the questions according to: \\n\\n{flight_info}. You are not allowed to recommend or answer any other thing than flights\",\n",
    "            #   model=\"gpt-4o-mini\",\n",
    "              model = 'gpt-4o',\n",
    "              model_settings=ModelSettings(temperature= 0.0,\n",
    "                                 max_tokens = 4096*8),\n",
    "              )"
   ]
  },
  {
   "cell_type": "code",
   "execution_count": null,
   "id": "ee3f0e37",
   "metadata": {},
   "outputs": [],
   "source": [
    "result = Runner.run_sync(f_agent, main_question+\" bring me cheapest flight, also tell me how much does that cost?\")\n",
    "print(result.final_output)"
   ]
  },
  {
   "cell_type": "code",
   "execution_count": null,
   "id": "ccb4182c",
   "metadata": {},
   "outputs": [],
   "source": [
    "result = Runner.run_sync(f_agent, \"list back all the flights\")\n",
    "print(result.final_output)"
   ]
  },
  {
   "cell_type": "code",
   "execution_count": null,
   "id": "c9ceaae8",
   "metadata": {},
   "outputs": [],
   "source": []
  }
 ],
 "metadata": {
  "kernelspec": {
   "display_name": "venv",
   "language": "python",
   "name": "python3"
  },
  "language_info": {
   "codemirror_mode": {
    "name": "ipython",
    "version": 3
   },
   "file_extension": ".py",
   "mimetype": "text/x-python",
   "name": "python",
   "nbconvert_exporter": "python",
   "pygments_lexer": "ipython3",
   "version": "3.12.6"
  }
 },
 "nbformat": 4,
 "nbformat_minor": 5
}
