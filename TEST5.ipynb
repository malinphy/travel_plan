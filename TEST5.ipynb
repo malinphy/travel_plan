{
 "cells": [
  {
   "cell_type": "code",
   "execution_count": 2,
   "id": "148390ad",
   "metadata": {},
   "outputs": [],
   "source": [
    "import os \n",
    "from dotenv import load_dotenv\n",
    "load_dotenv()\n",
    "from agents import Agent, Runner,function_tool,trace, ItemHelpers, MessageOutputItem\n",
    "import nest_asyncio\n",
    "nest_asyncio.apply()\n",
    "# setting up api key\n",
    "os.environ[\"OPENAI_API_KEY\"] = os.environ['OPENAI_API_KEY_MALI']\n",
    "import wikipedia\n",
    "import openmeteo_requests\n",
    "import requests_cache\n",
    "# from retry_requests import retry\n",
    "import requests\n",
    "from agents.extensions.visualization import draw_graph\n",
    "\n",
    "import json \n",
    "import requests\n",
    "from serpapi import GoogleSearch\n",
    "api_key = os.getenv(\"SERPAPI_API_KEY\")\n",
    "\n",
    "\n",
    "from openai.types.responses import (\n",
    "    ResponseFunctionCallArgumentsDeltaEvent,  # tool call streaming\n",
    "    ResponseCreatedEvent,  # start of new event like tool call or final answer\n",
    ")\n",
    "\n",
    "from tools import flight_search, yelp_search, hotels_search, wikipedia_search, get_weather\n",
    "from pydantic import BaseModel\n",
    "from models import first_agent_output\n",
    "from agents.model_settings import ModelSettings\n",
    "from data_models.flight_data_models import FlightSearchResults, BestFlight, AirportInfo, Flight, Layover, OtherFlight, PriceInsights, AirportLocation, Airports\n",
    "from data_models.yelp_data_models import Category, Business, YelpSearchResults\n",
    "from travel_agents import question_rewrite_agent, flight_agent\n",
    "from functions import flight_search,yelp_search\n",
    "from pprint import pprint\n",
    "from data_models.first_question_output_format import FinalModel\n",
    "import datetime\n",
    "\n",
    "from tools import flight_search, yelp_search,hotels_search\n"
   ]
  },
  {
   "cell_type": "code",
   "execution_count": 2,
   "id": "7fafb1e4",
   "metadata": {},
   "outputs": [],
   "source": [
    "ank = \"ankara(ESB)\"\n",
    "ist = \"istanbul(SAW)\"\n",
    "amst = \"amsterdam(AMS)\"\n",
    "pekin = \"Peking(PEK)\"\n",
    "\n",
    "start_point = ank \n",
    "dest_point = amst\n",
    "\n",
    "main_question = f\"\"\"I want to travel from {start_point} to {dest_point}. The outbound date is 2025-05-05 and the return date will be 2025-05-11. \n",
    "I also need a hotel to stay. I do not like smell of cigarette. If possible, I want to see the rooms where smoking is not allowed. \n",
    "In addition to that, I like eating sea food. I guess {dest_point} is very rich city interms of sea restaurants\"\"\".strip()\n",
    "\n",
    "question_rewrite_agent_output = Runner.run_sync(question_rewrite_agent,main_question)"
   ]
  },
  {
   "cell_type": "code",
   "execution_count": 3,
   "id": "51112505",
   "metadata": {},
   "outputs": [
    {
     "data": {
      "text/plain": [
       "YelpOutput(search_term='sea food', location='Amsterdam')"
      ]
     },
     "execution_count": 3,
     "metadata": {},
     "output_type": "execute_result"
    }
   ],
   "source": [
    "question_rewrite_agent_output.final_output.yelp_reqs"
   ]
  },
  {
   "cell_type": "code",
   "execution_count": 4,
   "id": "87f66929",
   "metadata": {},
   "outputs": [],
   "source": [
    "x = yelp_search(\n",
    "search_term = question_rewrite_agent_output.final_output.yelp_reqs.search_term, \n",
    "location = question_rewrite_agent_output.final_output.yelp_reqs.location \n",
    ")"
   ]
  },
  {
   "cell_type": "code",
   "execution_count": null,
   "id": "0c43251e",
   "metadata": {},
   "outputs": [
    {
     "data": {
      "text/plain": [
       "Category(title='The Seafood Bar', link=HttpUrl('https://www.yelp.com/biz/the-seafood-bar-amsterdam-3?osq=sea+food'))"
      ]
     },
     "execution_count": 6,
     "metadata": {},
     "output_type": "execute_result"
    }
   ],
   "source": [
    "Category(**x[0])"
   ]
  },
  {
   "cell_type": "code",
   "execution_count": 13,
   "id": "f0c58f84",
   "metadata": {},
   "outputs": [
    {
     "data": {
      "text/plain": [
       "'€€€'"
      ]
     },
     "execution_count": 13,
     "metadata": {},
     "output_type": "execute_result"
    }
   ],
   "source": [
    "Business(**x[0]).price"
   ]
  },
  {
   "cell_type": "code",
   "execution_count": 23,
   "id": "bd55cdc3",
   "metadata": {},
   "outputs": [],
   "source": [
    "yelp_search_res = \"\"\n",
    "for i in range(len(x)):\n",
    "    # print(x[i])\n",
    "    yelp_search_res += f\"\\n{i+1}\"\n",
    "    yelp_search_res += f\"\"\"\n",
    "Title : {Category(**x[i]).title}\n",
    "Category : {Business(**x[i]).categories[0].title}\n",
    "Rating : {Business(**x[i]).rating}\n",
    "Neighborhoods : {Business(**x[i]).neighborhoods}\n",
    "Price : {Business(**x[i]).price}\n",
    "\"\"\""
   ]
  },
  {
   "cell_type": "code",
   "execution_count": 24,
   "id": "61947c0e",
   "metadata": {},
   "outputs": [
    {
     "name": "stdout",
     "output_type": "stream",
     "text": [
      "\n",
      "1\n",
      "Title : The Seafood Bar\n",
      "Category : Seafood\n",
      "Rating : 4.5\n",
      "Neighborhoods : Centrum\n",
      "Price : €€€\n",
      "\n",
      "2\n",
      "Title : Pesca\n",
      "Category : Seafood\n",
      "Rating : 4.5\n",
      "Neighborhoods : Jordaan\n",
      "Price : €€\n",
      "\n",
      "3\n",
      "Title : The Seafood Bar\n",
      "Category : Seafood\n",
      "Rating : 4.1\n",
      "Neighborhoods : Museumkwartier\n",
      "Price : €€€\n",
      "\n",
      "4\n",
      "Title : The Seafood Shop\n",
      "Category : Seafood\n",
      "Rating : 4.2\n",
      "Neighborhoods : Centrum\n",
      "Price : None\n",
      "\n",
      "5\n",
      "Title : The Seafood Bar\n",
      "Category : Seafood\n",
      "Rating : 4.5\n",
      "Neighborhoods : De Pijp\n",
      "Price : €€€\n",
      "\n",
      "6\n",
      "Title : Frens Haringhandel\n",
      "Category : Street Vendors\n",
      "Rating : 4.5\n",
      "Neighborhoods : Centrum\n",
      "Price : €\n",
      "\n",
      "7\n",
      "Title : The Good Companion\n",
      "Category : Fish & Chips\n",
      "Rating : 4.8\n",
      "Neighborhoods : Jordaan\n",
      "Price : None\n",
      "\n",
      "8\n",
      "Title : Dutch Four\n",
      "Category : Seafood\n",
      "Rating : 5.0\n",
      "Neighborhoods : Centrum\n",
      "Price : None\n",
      "\n",
      "9\n",
      "Title : Black Steaks & Seafood\n",
      "Category : Seafood\n",
      "Rating : 4.4\n",
      "Neighborhoods : Centrum\n",
      "Price : None\n",
      "\n",
      "10\n",
      "Title : éénvistwéévis\n",
      "Category : Seafood\n",
      "Rating : 4.5\n",
      "Neighborhoods : Centrum\n",
      "Price : €€€\n",
      "\n"
     ]
    }
   ],
   "source": [
    "print(yelp_search_res)"
   ]
  },
  {
   "cell_type": "code",
   "execution_count": 26,
   "id": "d978a98e",
   "metadata": {},
   "outputs": [
    {
     "name": "stdout",
     "output_type": "stream",
     "text": [
      "For your trip to Amsterdam, here are the details based on your preferences:\n",
      "\n",
      "### Seafood Restaurant\n",
      "- **Pesca**\n",
      "  - **Category**: Seafood\n",
      "  - **Rating**: 4.5\n",
      "  - **Neighborhood**: Jordaan\n",
      "  - **Price**: €€\n",
      "\n",
      "This is the cheapest seafood restaurant option available.\n",
      "\n",
      "### Hotel Recommendation\n",
      "While I cannot provide specific hotel recommendations, I suggest looking for hotels in Amsterdam that explicitly state they are non-smoking. Many hotels offer non-smoking rooms, and you can filter your search to ensure you find accommodations that meet your preferences.\n",
      "\n",
      "### Travel Dates\n",
      "- **Outbound**: 2025-05-05\n",
      "- **Return**: 2025-05-11\n",
      "\n",
      "Make sure to book your flights and accommodations in advance to secure the best options!\n"
     ]
    }
   ],
   "source": [
    "yelp_agent = Agent(\n",
    "    name = \"YELP SEARCH\",\n",
    "    instructions=f\"You are helpful asisstants try to answer the questions according to: \\n\\n{yelp_search_res}. You are not allowed to recommend or answer any other thing than given information\",\n",
    "    model = 'gpt-4o-mini',\n",
    "    # tools=[yelp_search],\n",
    "    model_settings=ModelSettings(temperature= 0.0,\n",
    "                                 max_tokens = 4096*2),\n",
    ")\n",
    "\n",
    "result = Runner.run_sync(yelp_agent, main_question+\" bring me cheapest restaurent\")\n",
    "print(result.final_output)"
   ]
  },
  {
   "cell_type": "code",
   "execution_count": 30,
   "id": "dd78532e",
   "metadata": {},
   "outputs": [
    {
     "name": "stdout",
     "output_type": "stream",
     "text": [
      "Here are some seafood restaurants in Amsterdam that are close to the city center:\n",
      "\n",
      "1. **The Seafood Bar**\n",
      "   - **Rating:** 4.5\n",
      "   - **Neighborhood:** Centrum\n",
      "   - **Price:** €€€\n",
      "\n",
      "2. **The Seafood Shop**\n",
      "   - **Rating:** 4.2\n",
      "   - **Neighborhood:** Centrum\n",
      "   - **Price:** None\n",
      "\n",
      "3. **Dutch Four**\n",
      "   - **Rating:** 5.0\n",
      "   - **Neighborhood:** Centrum\n",
      "   - **Price:** None\n",
      "\n",
      "4. **Black Steaks & Seafood**\n",
      "   - **Rating:** 4.4\n",
      "   - **Neighborhood:** Centrum\n",
      "   - **Price:** None\n",
      "\n",
      "5. **éénvistwéévis**\n",
      "   - **Rating:** 4.5\n",
      "   - **Neighborhood:** Centrum\n",
      "   - **Price:** €€€\n",
      "\n",
      "These options should provide you with a good selection of seafood dining experiences in the city center. \n",
      "\n",
      "For your hotel stay, I recommend looking for accommodations that specifically mention non-smoking rooms to ensure a comfortable experience.\n"
     ]
    }
   ],
   "source": [
    "yelp_agent = Agent(\n",
    "    name = \"YELP SEARCH\",\n",
    "    instructions=f\"You are helpful asisstants try to answer the questions according to: \\n\\n{yelp_search_res}. You are not allowed to recommend or answer any other thing than given information\",\n",
    "    model = 'gpt-4o-mini',\n",
    "    # tools=[yelp_search],\n",
    "    model_settings=ModelSettings(temperature= 0.0,\n",
    "                                 max_tokens = 4096*2),\n",
    ")\n",
    "\n",
    "result = Runner.run_sync(yelp_agent, main_question+\" bring me closest restaurants to the city center\")\n",
    "print(result.final_output)"
   ]
  },
  {
   "cell_type": "code",
   "execution_count": null,
   "id": "dfebe553",
   "metadata": {},
   "outputs": [],
   "source": []
  },
  {
   "cell_type": "code",
   "execution_count": null,
   "id": "c2ebb981",
   "metadata": {},
   "outputs": [],
   "source": []
  }
 ],
 "metadata": {
  "kernelspec": {
   "display_name": "venv",
   "language": "python",
   "name": "python3"
  },
  "language_info": {
   "codemirror_mode": {
    "name": "ipython",
    "version": 3
   },
   "file_extension": ".py",
   "mimetype": "text/x-python",
   "name": "python",
   "nbconvert_exporter": "python",
   "pygments_lexer": "ipython3",
   "version": "3.12.6"
  }
 },
 "nbformat": 4,
 "nbformat_minor": 5
}
