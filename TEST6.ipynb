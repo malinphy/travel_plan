{
 "cells": [
  {
   "cell_type": "code",
   "execution_count": 2,
   "id": "778ed8fc",
   "metadata": {},
   "outputs": [],
   "source": [
    "import os \n",
    "from dotenv import load_dotenv\n",
    "load_dotenv()\n",
    "from agents import Agent, Runner,function_tool,trace, ItemHelpers, MessageOutputItem\n",
    "import nest_asyncio\n",
    "nest_asyncio.apply()\n",
    "# setting up api key\n",
    "os.environ[\"OPENAI_API_KEY\"] = os.environ['OPENAI_API_KEY_MALI']\n",
    "import wikipedia\n",
    "import openmeteo_requests\n",
    "import requests_cache\n",
    "# from retry_requests import retry\n",
    "import requests\n",
    "from agents.extensions.visualization import draw_graph\n",
    "\n",
    "import json \n",
    "import requests\n",
    "from serpapi import GoogleSearch\n",
    "api_key = os.getenv(\"SERPAPI_API_KEY\")\n",
    "\n",
    "\n",
    "from openai.types.responses import (\n",
    "    ResponseFunctionCallArgumentsDeltaEvent,  # tool call streaming\n",
    "    ResponseCreatedEvent,  # start of new event like tool call or final answer\n",
    ")\n",
    "\n",
    "from tools import flight_search, yelp_search, hotels_search, wikipedia_search, get_weather\n",
    "from pydantic import BaseModel\n",
    "from models import first_agent_output\n",
    "from agents.model_settings import ModelSettings\n",
    "from data_models.flight_data_models import FlightSearchResults, BestFlight, AirportInfo, Flight, Layover, OtherFlight, PriceInsights, AirportLocation, Airports\n",
    "from data_models.yelp_data_models import Category, Business, YelpSearchResults\n",
    "from travel_agents import question_rewrite_agent, flight_agent\n",
    "from functions import flight_search,yelp_search\n",
    "from pprint import pprint\n",
    "from data_models.hotel_data_models import HotelSearchResponse, SearchInformation, Brand, BrandChild, Property, GPSCoordinates, ReviewsBreakdown, Rating, Price, Rate, NearbyPlace, Transportation"
   ]
  },
  {
   "cell_type": "code",
   "execution_count": 3,
   "id": "a6d6425c",
   "metadata": {},
   "outputs": [],
   "source": [
    "ank = \"ankara(ESB)\"\n",
    "ist = \"istanbul(SAW)\"\n",
    "amst = \"amsterdam(AMS)\"\n",
    "pekin = \"Peking(PEK)\"\n",
    "\n",
    "start_point = ank \n",
    "dest_point = amst\n",
    "\n",
    "main_question = f\"\"\"I want to travel from {start_point} to {dest_point}. The outbound date is 2025-05-05 and the return date will be 2025-05-11. \n",
    "I also need a hotel to stay. I do not like smell of cigarette. If possible, I want to see the rooms where smoking is not allowed. \n",
    "In addition to that, I like eating sea food. I guess {dest_point} is very rich city interms of sea restaurants\"\"\".strip()\n",
    "\n",
    "question_rewrite_agent_output = Runner.run_sync(question_rewrite_agent,main_question)"
   ]
  },
  {
   "cell_type": "code",
   "execution_count": 5,
   "id": "578add31",
   "metadata": {},
   "outputs": [
    {
     "data": {
      "text/plain": [
       "HotelOutput(query='Amsterdam', check_in_date='2025-05-05', check_out_date='2025-05-11', gl='non-smoking')"
      ]
     },
     "execution_count": 5,
     "metadata": {},
     "output_type": "execute_result"
    }
   ],
   "source": [
    "question_rewrite_agent_output.final_output.hotel_reqs"
   ]
  },
  {
   "cell_type": "code",
   "execution_count": null,
   "id": "293c43a6",
   "metadata": {},
   "outputs": [],
   "source": []
  },
  {
   "cell_type": "code",
   "execution_count": null,
   "id": "e6f2ba4f",
   "metadata": {},
   "outputs": [],
   "source": []
  }
 ],
 "metadata": {
  "kernelspec": {
   "display_name": "venv",
   "language": "python",
   "name": "python3"
  },
  "language_info": {
   "codemirror_mode": {
    "name": "ipython",
    "version": 3
   },
   "file_extension": ".py",
   "mimetype": "text/x-python",
   "name": "python",
   "nbconvert_exporter": "python",
   "pygments_lexer": "ipython3",
   "version": "3.12.6"
  }
 },
 "nbformat": 4,
 "nbformat_minor": 5
}
