{
 "cells": [
  {
   "cell_type": "code",
   "execution_count": 1,
   "id": "8ca72f54",
   "metadata": {},
   "outputs": [
    {
     "name": "stdout",
     "output_type": "stream",
     "text": [
      "END OF THE SCRIPT\n"
     ]
    }
   ],
   "source": [
    "from agents import function_tool\n",
    "import wikipedia\n",
    "import requests\n",
    "import os \n",
    "from dotenv import load_dotenv\n",
    "load_dotenv()\n",
    "os.environ[\"OPENAI_API_KEY\"] = os.environ['OPENAI_API_KEY_MALI']\n",
    "from serpapi import GoogleSearch\n",
    "api_key = os.getenv(\"SERPAPI_API_KEY\")\n",
    "import openmeteo_requests\n",
    "from data_models.flight_data_models import FlightSearchResults, OtherFlight, BestFlight\n",
    "\n",
    "import nest_asyncio\n",
    "nest_asyncio.apply()\n",
    "\n",
    "from agents.model_settings import ModelSettings\n",
    "from agents import Agent, Runner,function_tool,trace, ItemHelpers, MessageOutputItem\n",
    "from data_models.hotel_data_models import Property\n",
    "from data_models.yelp_data_models import Category, Business\n",
    "from helpers.helper_functions import assemble_conversation\n",
    "\n",
    "from helpers.function_tools import flight_search_2, hotels_search2, yelp_search2\n",
    "from helpers.travel_agents import t_agent,f_agent,h_agent,y_agent"
   ]
  },
  {
   "cell_type": "code",
   "execution_count": 4,
   "id": "e441d3c9",
   "metadata": {},
   "outputs": [],
   "source": [
    "ank = \"ankara(ESB)\"\n",
    "ist = \"istanbul(SAW)\"\n",
    "amst = \"amsterdam(AMS)\"\n",
    "pekin = \"Peking(PEK)\"\n",
    "\n",
    "start_point = ank \n",
    "dest_point = amst\n",
    "\n",
    "main_question = f\"\"\"I want to travel from {start_point} to {dest_point}. \n",
    "The outbound date is 2025-05-05 and the return date will be 2025-05-11. \n",
    "What are the best hotels in Amsterdam\"\"\".strip()\n",
    "\n",
    "\n",
    "main_question2 = f\"\"\"I want to travel from {start_point} to {dest_point}. \n",
    "The outbound date is 2025-05-05 and the return date will be 2025-05-11. \n",
    "tell me the cheapest travel and hotel options\"\"\".strip()\n",
    "\n",
    "main_question3 = f\"\"\"I want to travel from {start_point} to {dest_point}. \n",
    "The outbound date is 2025-05-05 and the return date will be 2025-05-11. \n",
    "tell me the cheapest travel and \"hotel\" options\"\"\".strip()"
   ]
  },
  {
   "cell_type": "code",
   "execution_count": 5,
   "id": "ef21a373",
   "metadata": {},
   "outputs": [
    {
     "data": {
      "text/plain": [
       "'I want to travel from ankara(ESB) to amsterdam(AMS). \\nThe outbound date is 2025-05-05 and the return date will be 2025-05-11. \\ntell me the cheapest travel and \"hotel\" options'"
      ]
     },
     "execution_count": 5,
     "metadata": {},
     "output_type": "execute_result"
    }
   ],
   "source": [
    "main_question3"
   ]
  },
  {
   "cell_type": "code",
   "execution_count": 6,
   "id": "6a07896c",
   "metadata": {},
   "outputs": [
    {
     "name": "stdout",
     "output_type": "stream",
     "text": [
      "### Cheapest Travel Options\n",
      "\n",
      "#### Flights from Ankara (ESB) to Amsterdam (AMS)\n",
      "- **Total Price:** $385\n",
      "- **Total Duration:** 16 hours (including layovers)\n",
      "  \n",
      "**Flight Details:**\n",
      "1. **Segment 1:**\n",
      "   - **Airline:** Pegasus\n",
      "   - **Departure:** 2025-05-05, 17:15 from Ankara (ESB)\n",
      "   - **Arrival:** 2025-05-05, 18:30 at İzmir (ADB)\n",
      "   - **Duration:** 75 minutes\n",
      "\n",
      "2. **Segment 2:**\n",
      "   - **Airline:** easyJet\n",
      "   - **Departure:** 2025-05-05, 21:15 from İzmir (ADB)\n",
      "   - **Arrival:** 2025-05-05, 23:25 at London (LTN)\n",
      "   - **Duration:** 250 minutes\n",
      "\n",
      "3. **Segment 3:**\n",
      "   - **Airline:** easyJet\n",
      "   - **Departure:** 2025-05-06, 06:00 from London (LTN)\n",
      "   - **Arrival:** 2025-05-06, 08:15 at Amsterdam (AMS)\n",
      "   - **Duration:** 75 minutes\n",
      "\n",
      "### Accommodation\n",
      "Currently, I'm unable to retrieve hotel information for your travel dates (2025-05-05 to 2025-05-11). For the best options, I recommend checking:\n",
      "\n",
      "- **Booking.com**\n",
      "- **Expedia**\n",
      "- **Airbnb**\n",
      "\n",
      "These platforms often have great deals and user reviews to help you choose the best places to stay.\n",
      "\n",
      "If you need any further assistance or specific information, feel free to ask!\n"
     ]
    }
   ],
   "source": [
    "result = Runner.run_sync(t_agent, main_question2)\n",
    "print(result.final_output)"
   ]
  },
  {
   "cell_type": "code",
   "execution_count": null,
   "id": "eeb7d432",
   "metadata": {},
   "outputs": [],
   "source": [
    "new_prompt = \"\"\"Search the \"Hotel\" term in amsterdam\"\"\"\n",
    "new_input = assemble_conversation(result, new_prompt)\n"
   ]
  },
  {
   "cell_type": "code",
   "execution_count": null,
   "id": "4aae419a",
   "metadata": {},
   "outputs": [
    {
     "name": "stdout",
     "output_type": "stream",
     "text": [
      "It looks like there was an error retrieving hotel information. Would you like to specify your check-in and check-out dates, or should I attempt to search for hotels in Amsterdam again without specific dates?\n"
     ]
    }
   ],
   "source": [
    "result = Runner.run_sync(t_agent, new_input)\n",
    "print(result.final_output)"
   ]
  },
  {
   "cell_type": "code",
   "execution_count": null,
   "id": "af9cb2ac",
   "metadata": {},
   "outputs": [
    {
     "name": "stdout",
     "output_type": "stream",
     "text": [
      "Here are some hotel options in Amsterdam for your stay from May 5 to May 11, 2025:\n",
      "\n",
      "1. **EuroParcs Resort Port of Amsterdam**\n",
      "   - **Check-in:** 3:00 PM\n",
      "   - **Check-out:** 10:00 AM\n",
      "   - **Lowest Price per Night:** $31\n",
      "   - **Rating:** 3.9\n",
      "   - **Amenities:** Free breakfast, Wi-Fi, Free parking, Pool, Fitness center, Restaurant, Child-friendly\n",
      "\n",
      "2. **Radisson Hotel & Suites Amsterdam South**\n",
      "   - **Check-in:** 3:00 PM\n",
      "   - **Check-out:** 12:00 PM\n",
      "   - **Lowest Price per Night:** $221\n",
      "   - **Rating:** 4.3\n",
      "   - **Amenities:** Breakfast ($), Free Wi-Fi, Parking ($), Air conditioning, Pet-friendly, Fitness center, Bar, Restaurant, Room service, Airport shuttle\n",
      "\n",
      "3. **via Amsterdam**\n",
      "   - **Check-in:** 3:00 PM\n",
      "   - **Check-out:** 10:00 AM\n",
      "   - **Lowest Price per Night:** $101\n",
      "   - **Rating:** 4.3\n",
      "   - **Amenities:** Breakfast, Free Wi-Fi, Parking, Air conditioning, Bar, Restaurant\n",
      "\n",
      "4. **Grand Hotel Amrâth Amsterdam**\n",
      "   - **Check-in:** 3:00 PM\n",
      "   - **Check-out:** 11:00 AM\n",
      "   - **Lowest Price per Night:** $355\n",
      "   - **Rating:** 4.2\n",
      "   - **Amenities:** Breakfast ($), Free Wi-Fi, Indoor pool, Spa, Room service\n",
      "\n",
      "5. **The Flying Pig Downtown Hostel**\n",
      "   - **Check-in:** 2:00 PM\n",
      "   - **Check-out:** 10:30 AM\n",
      "   - **Lowest Price per Night:** $124\n",
      "   - **Rating:** 4.4\n",
      "   - **Amenities:** Breakfast ($), Free Wi-Fi, Bar, Restaurant\n",
      "\n",
      "6. **MEININGER Hotel Amsterdam City West**\n",
      "   - **Check-in:** 3:00 PM\n",
      "   - **Check-out:** 12:00 PM\n",
      "   - **Lowest Price per Night:** $129\n",
      "   - **Rating:** 4.2\n",
      "   - **Amenities:** Breakfast ($), Free Wi-Fi, Pet-friendly, Bar\n",
      "\n",
      "7. **Cabins Hotel Amsterdam**\n",
      "   - **Check-in:** 3:00 PM\n",
      "   - **Check-out:** 11:00 AM\n",
      "   - **Lowest Price per Night:** $157\n",
      "   - **Rating:** 4.9\n",
      "   - **Amenities:** Free Wi-Fi, Parking ($), Air conditioning\n",
      "\n",
      "8. **Citiez Hotel Amsterdam**\n",
      "   - **Check-in:** 3:00 PM\n",
      "   - **Check-out:** 12:00 PM\n",
      "   - **Lowest Price per Night:** $180\n",
      "   - **Rating:** 4.3\n",
      "   - **Amenities:** Breakfast ($), Free Wi-Fi, Free parking, Air conditioning\n",
      "\n",
      "9. **Met Hotel Amsterdam**\n",
      "   - **Check-in:** 3:00 PM\n",
      "   - **Check-out:** 11:00 AM\n",
      "   - **Lowest Price per Night:** $265\n",
      "   - **Rating:** 4.7\n",
      "   - **Amenities:** Breakfast ($), Free Wi-Fi, Fitness center, Bar\n",
      "\n",
      "10. **MEININGER Hotel Amsterdam Amstel**\n",
      "    - **Check-in:** 3:00 PM\n",
      "    - **Check-out:** 11:00 AM\n",
      "    - **Lowest Price per Night:** $145\n",
      "    - **Rating:** 4.2\n",
      "    - **Amenities:** Breakfast ($), Free Wi-Fi, Pet-friendly\n",
      "\n",
      "If you need more options or specific details, feel free to ask!\n"
     ]
    }
   ],
   "source": [
    "new_prompt = \"\"\"Search the \"Hotel\" term in amsterdam, The outbound date is 2025-05-05 and the return date will be 2025-05-11. \"\"\"\n",
    "new_input = assemble_conversation(result, new_prompt)\n",
    "\n",
    "\n",
    "result = Runner.run_sync(t_agent, new_input)\n",
    "print(result.final_output)"
   ]
  },
  {
   "cell_type": "code",
   "execution_count": null,
   "id": "3dd0f1fc",
   "metadata": {},
   "outputs": [
    {
     "name": "stdout",
     "output_type": "stream",
     "text": [
      "Here's a breakdown of the cheapest options based on the information provided:\n",
      "\n",
      "### Cheapest Flight\n",
      "- **Flight Option 1:**\n",
      "  - **Price:** $387\n",
      "\n",
      "### Cheapest Hotel\n",
      "- **Hotel: EuroParcs Resort Port of Amsterdam**\n",
      "  - **Lowest Price per Night:** $31\n",
      "  - **Total for 6 Nights:** \\(31 \\times 6 = 186\\)\n",
      "\n",
      "### Total Cost Calculation\n",
      "- **Total Flight Cost:** $387\n",
      "- **Total Hotel Cost for 6 Nights:** $186\n",
      "\n",
      "### Grand Total\n",
      "- **Total Travel Cost:** \\(387 + 186 = 573\\)\n",
      "\n",
      "### Summary\n",
      "- **Cheapest Flight:** $387\n",
      "- **Cheapest Hotel (6 nights):** $186\n",
      "- **Total Cost:** **$573**\n",
      "\n",
      "If you need further assistance or details, just let me know!\n"
     ]
    }
   ],
   "source": [
    "new_prompt = \"\"\"now find the cheapest flight ticket and the cheapest hotels from recommendations and calculate the cheapest options\"\"\"\n",
    "new_input = assemble_conversation(result, new_prompt)\n",
    "\n",
    "\n",
    "result = Runner.run_sync(t_agent, new_input)\n",
    "print(result.final_output)"
   ]
  },
  {
   "cell_type": "code",
   "execution_count": null,
   "id": "143e2a38",
   "metadata": {},
   "outputs": [
    {
     "name": "stdout",
     "output_type": "stream",
     "text": [
      "Here are the amenities offered by the **EuroParcs Resort Port of Amsterdam**:\n",
      "\n",
      "### EuroParcs Resort Port of Amsterdam Amenities\n",
      "- **Free Breakfast**\n",
      "- **Free Wi-Fi**\n",
      "- **Free Parking**\n",
      "- **Pool**\n",
      "- **Fitness Center**\n",
      "- **On-site Restaurant**\n",
      "- **Child-Friendly Facilities**\n",
      "\n",
      "If you need more information about these amenities or anything else, feel free to ask!\n"
     ]
    }
   ],
   "source": [
    "new_prompt = \"\"\"ok think about your recommendations what does your recommended hotel offer in terms of amenities.\"\"\"\n",
    "new_input = assemble_conversation(result, new_prompt)\n",
    "\n",
    "\n",
    "result = Runner.run_sync(t_agent, new_input)\n",
    "print(result.final_output)"
   ]
  },
  {
   "cell_type": "code",
   "execution_count": null,
   "id": "d8777fb1",
   "metadata": {},
   "outputs": [
    {
     "name": "stdout",
     "output_type": "stream",
     "text": [
      "Here’s the updated calculation for your new travel plans. Since you're now planning to stay for **3 days**, I will calculate the total for **2 nights** at the hotel.\n",
      "\n",
      "### Cheapest Options with Updated Travel Plans\n",
      "\n",
      "#### Cheapest Flight\n",
      "- **Flight Option 1:**\n",
      "  - **Price:** $387\n",
      "\n",
      "#### Cheapest Hotel\n",
      "- **Hotel: EuroParcs Resort Port of Amsterdam**\n",
      "  - **Lowest Price per Night:** $31\n",
      "  - **Total for 2 Nights:** \\(31 \\times 2 = 62\\)\n",
      "\n",
      "### Total Cost Calculation\n",
      "- **Total Flight Cost:** $387\n",
      "- **Total Hotel Cost for 2 Nights:** $62\n",
      "\n",
      "### Grand Total\n",
      "- **Total Travel Cost:** \\(387 + 62 = 449\\)\n",
      "\n",
      "### Summary of New Costs\n",
      "- **Cheapest Flight:** $387\n",
      "- **Cheapest Hotel (2 nights):** $62\n",
      "- **Total Cost:** **$449**\n",
      "\n",
      "If you need anything further or have more changes, just let me know!\n"
     ]
    }
   ],
   "source": [
    "new_prompt = \"\"\"ok I like the hotel offers but I have changed my plans. the travel span changed. The outbound date is still same but travel take 3 days. \n",
    "Can you re-calculate the price for the cheapest options\"\"\"\n",
    "new_input = assemble_conversation(result, new_prompt)\n",
    "\n",
    "\n",
    "result = Runner.run_sync(t_agent, new_input)\n",
    "print(result.final_output)"
   ]
  },
  {
   "cell_type": "code",
   "execution_count": null,
   "id": "5805f92b",
   "metadata": {},
   "outputs": [
    {
     "name": "stdout",
     "output_type": "stream",
     "text": [
      "Here are the updated flight options based on the new return date of **May 8, 2025**:\n",
      "\n",
      "### Cheapest Flight Option\n",
      "- **Flight Option 1:**\n",
      "  - **Total Price:** $473\n",
      "  - **Total Duration:** 665 minutes\n",
      "  - **Segment 1:**\n",
      "    - **Airline:** AJet (VF 4072)\n",
      "    - **Departure:** Ankara Esenboğa Airport (ESB) - May 5, 2025, 11:00\n",
      "    - **Arrival:** Dalaman Airport (DLM) - May 5, 2025, 12:20\n",
      "    - **Duration:** 80 minutes\n",
      "  - **Segment 2:**\n",
      "    - **Airline:** SunExpress (XQ 3504)\n",
      "    - **Departure:** Dalaman Airport (DLM) - May 5, 2025, 14:40\n",
      "    - **Arrival:** Manchester Airport (MAN) - May 5, 2025, 17:20\n",
      "    - **Duration:** 280 minutes\n",
      "  - **Segment 3:**\n",
      "    - **Airline:** easyJet (U2 2167)\n",
      "    - **Departure:** Manchester Airport (MAN) - May 5, 2025, 18:45\n",
      "    - **Arrival:** Amsterdam Schiphol Airport (AMS) - May 5, 2025, 21:05\n",
      "    - **Duration:** 80 minutes\n",
      "\n",
      "### Total Cost Calculation\n",
      "#### Cheapest Hotel\n",
      "- **Hotel: EuroParcs Resort Port of Amsterdam**\n",
      "  - **Lowest Price per Night:** $31\n",
      "  - **Total for 2 Nights:** \\(31 \\times 2 = 62\\)\n",
      "\n",
      "### Grand Total\n",
      "- **Total Flight Cost:** $473\n",
      "- **Total Hotel Cost for 2 Nights:** $62\n",
      "\n",
      "### Total Travel Cost\n",
      "- \\(473 + 62 = 535\\)\n",
      "\n",
      "### Summary of Updated Costs\n",
      "- **Cheapest Flight:** $473\n",
      "- **Cheapest Hotel (2 nights):** $62\n",
      "- **Total Cost:** **$535**\n",
      "\n",
      "If you have further questions or adjustments, let me know!\n"
     ]
    }
   ],
   "source": [
    "new_prompt = \"\"\"I guess there is mistake at your calculation becase, If I am not wrong, you did not change the return flight date. or did you?\"\"\"\n",
    "new_input = assemble_conversation(result, new_prompt)\n",
    "\n",
    "\n",
    "result = Runner.run_sync(t_agent, new_input)\n",
    "print(result.final_output)"
   ]
  },
  {
   "cell_type": "code",
   "execution_count": null,
   "id": "1986359e",
   "metadata": {},
   "outputs": [
    {
     "name": "stdout",
     "output_type": "stream",
     "text": [
      "Amsterdam is a vibrant city with a rich cultural heritage and plenty of activities to enjoy. Here are some highlights and recommendations for your visit:\n",
      "\n",
      "### 1. **Museums**\n",
      "   - **Rijksmuseum:** Home to masterpieces by artists like Rembrandt and Vermeer.\n",
      "   - **Van Gogh Museum:** Dedicated to the works of Vincent van Gogh, featuring the largest collection of his art.\n",
      "   - **Anne Frank House:** A poignant museum dedicated to the life of Anne Frank and her diary.\n",
      "\n",
      "### 2. **Canal Cruises**\n",
      "   - Explore the quaint canals of Amsterdam by boat. Options include daytime, sunset, and dinner cruises, offering a unique perspective of the city.\n",
      "\n",
      "### 3. **Cultural Experiences**\n",
      "   - **Heineken Experience:** A tour of the original brewery that includes tastings and interactive exhibits about the brewing process.\n",
      "   - **Amsterdam Dance Event:** If your visit aligns with this festival, enjoy electronic music performances across the city.\n",
      "\n",
      "### 4. **Parks and Outdoor Spaces**\n",
      "   - **Vondelpark:** A lovely park perfect for a stroll, picnic, or people-watching.\n",
      "   - **Amsterdamse Bos:** A large park with walking paths, a lake, and even a goat farm.\n",
      "\n",
      "### 5. **Markets**\n",
      "   - **Albert Cuyp Market:** A famous street market where you can find fresh produce, local delicacies, and souvenirs.\n",
      "   - **Flower Market (Bloemenmarkt):** The only floating flower market in the world, offering a variety of flowers, including tulips.\n",
      "\n",
      "### 6. **Food and Dining**\n",
      "   - Try traditional Dutch dishes like stroopwafels, herring, and poffertjes.\n",
      "   - Explore the diverse culinary scene, including international cuisines and Michelin-starred restaurants.\n",
      "\n",
      "### 7. **Nightlife**\n",
      "   - Visit bars and cafes in the Jordaan or De Pijp neighborhoods for a lively night out.\n",
      "   - Experience the famous Amsterdam nightlife in clubs like De School and Melkweg.\n",
      "\n",
      "### 8. **Walking and Biking Tours**\n",
      "   - Join a guided walking or biking tour to explore various neighborhoods, each with its own unique charm and history.\n",
      "\n",
      "### 9. **Shopping**\n",
      "   - Browse unique shops and boutiques in the Nine Streets (De Negen Straatjes) area for local fashion and gifts.\n",
      "\n",
      "### Key Recommendations\n",
      "- **Transportation:** Use bicycles, trams, or walking to explore the city easily.\n",
      "- **City Passes:** Consider purchasing an Amsterdam City Card for discounts on attractions and free public transport.\n",
      "- **Local Events:** Check for local events or exhibitions happening during your visit.\n",
      "\n",
      "Feel free to ask if you want to know more about any specific activity or area!\n"
     ]
    }
   ],
   "source": [
    "new_prompt = \"\"\"Cool, what can you offer me in amsterdam?\"\"\"\n",
    "new_input = assemble_conversation(result, new_prompt)\n",
    "\n",
    "\n",
    "result = Runner.run_sync(t_agent, new_input)\n",
    "print(result.final_output)"
   ]
  },
  {
   "cell_type": "code",
   "execution_count": null,
   "id": "779f436f",
   "metadata": {},
   "outputs": [],
   "source": []
  }
 ],
 "metadata": {
  "kernelspec": {
   "display_name": "venv",
   "language": "python",
   "name": "python3"
  },
  "language_info": {
   "codemirror_mode": {
    "name": "ipython",
    "version": 3
   },
   "file_extension": ".py",
   "mimetype": "text/x-python",
   "name": "python",
   "nbconvert_exporter": "python",
   "pygments_lexer": "ipython3",
   "version": "3.12.6"
  }
 },
 "nbformat": 4,
 "nbformat_minor": 5
}
