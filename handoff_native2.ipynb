{
 "cells": [
  {
   "cell_type": "code",
   "execution_count": 1,
   "id": "105bb3da",
   "metadata": {},
   "outputs": [
    {
     "name": "stdout",
     "output_type": "stream",
     "text": [
      "END OF THE SCRIPT\n"
     ]
    }
   ],
   "source": [
    "import os \n",
    "import uuid\n",
    "from agents import Agent, Runner, ModelSettings,trace\n",
    "from helpers.helper_agents import recommender_agent, responsive_agent,query_rewrite, travel_info_agent\n",
    "from helpers.travel_agents import f_agent, h_agent\n",
    "from helpers.function_tools import flight_search_2, hotels_search2\n",
    "from helpers.helper_functions import assemble_conversation\n",
    "from agents.extensions.visualization import draw_graph\n",
    "import nest_asyncio\n",
    "from dotenv import load_dotenv\n",
    "load_dotenv()\n",
    "\n",
    "os.environ[\"OPENAI_API_KEY\"] = os.environ['OPENAI_API_KEY_MALI']\n",
    "nest_asyncio.apply()\n",
    "\n",
    "myuuid = str(uuid.uuid4())"
   ]
  },
  {
   "cell_type": "code",
   "execution_count": 2,
   "id": "03dc3c7c",
   "metadata": {},
   "outputs": [
    {
     "name": "stdout",
     "output_type": "stream",
     "text": [
      "fd2b1e44-8be7-4005-b515-a80d7228cda5\n"
     ]
    }
   ],
   "source": [
    "print(myuuid)"
   ]
  },
  {
   "cell_type": "code",
   "execution_count": 3,
   "id": "cc5fa640",
   "metadata": {},
   "outputs": [],
   "source": [
    "travel_info_agent.tools = [\n",
    "        f_agent.as_tool(\n",
    "            tool_name = \"Flight_Assistant_agent\", \n",
    "            tool_description=\"Arranges flight ticket according to user needs\"\n",
    "        ),\n",
    "        h_agent.as_tool(\n",
    "            tool_name = \"Hotels_Assistant_agent\", \n",
    "            tool_description=\"Arranges hotel accomodations according to user needs\"\n",
    "        ),\n",
    "]\n",
    "travel_info_agent.model = 'gpt-4o'"
   ]
  },
  {
   "cell_type": "code",
   "execution_count": 4,
   "id": "903eb381",
   "metadata": {},
   "outputs": [],
   "source": [
    "query_rewrite.handoffs = [travel_info_agent,recommender_agent]\n",
    "query_rewrite.model = 'gpt-4o'"
   ]
  },
  {
   "cell_type": "code",
   "execution_count": 5,
   "id": "9b65f8ac",
   "metadata": {},
   "outputs": [],
   "source": [
    "ank = \"ankara(ESB)\"\n",
    "ist = \"istanbul(SAW)\"\n",
    "amst = \"amsterdam(AMS)\"\n",
    "pekin = \"Peking(PEK)\"\n",
    "\n",
    "start_point = ank \n",
    "dest_point = amst\n",
    "\n",
    "\n",
    "\n",
    "query_1 = f\"\"\"I want to travel from {start_point} to {dest_point}. \n",
    "The outbound date is 2025-05-05 and the return date will be 2025-05-11. \n",
    "tell me the cheapest travel and hotels options in Amsterdam.\n",
    "\"\"\".strip()"
   ]
  },
  {
   "cell_type": "code",
   "execution_count": 6,
   "id": "83da0bc3",
   "metadata": {},
   "outputs": [],
   "source": [
    "with trace(myuuid): \n",
    "    res = Runner.run_sync(query_rewrite,query_1)"
   ]
  },
  {
   "cell_type": "code",
   "execution_count": 7,
   "id": "d6197f26",
   "metadata": {},
   "outputs": [
    {
     "name": "stdout",
     "output_type": "stream",
     "text": [
      "**Subquestions:**\n",
      "\n",
      "1. What are the available flight options from Ankara Esenboğa Airport (ESB) to Amsterdam Airport Schiphol (AMS) for the outbound date of May 5, 2025, and the return date of May 11, 2025? Please include the cheapest options, flight times, and any layovers.\n",
      "\n",
      "2. What are the cheapest hotel options in Amsterdam for the dates of May 5, 2025, to May 11, 2025? Include details such as location, amenities, and pricing.\n",
      "\n",
      "3. Are there any package deals or discounts available that combine flights and hotel stays for the specified dates and locations?\n",
      "\n",
      "4. What are the transportation options from Amsterdam Airport Schiphol (AMS) to the recommended hotels, including costs and travel times?\n",
      "\n",
      "**Final Detailed Query:**\n",
      "\n",
      "\"Please provide the cheapest travel and accommodation options for a trip from Ankara Esenboğa Airport (ESB) to Amsterdam Airport Schiphol (AMS) with the following details:\n",
      "- Outbound flight on May 5, 2025, and return flight on May 11, 2025, including the cheapest available flights, flight times, and any layovers.\n",
      "- Budget-friendly hotel options in Amsterdam for the duration of the stay (May 5-11, 2025), with details on location, amenities, and pricing.\n",
      "- Information on any available package deals or discounts that combine flights and hotel stays.\n",
      "- Transportation options from Amsterdam Airport Schiphol (AMS) to the recommended hotels, including costs and travel times.\n",
      "\n",
      "The focus should be on finding the most cost-effective options for both flights and accommodations.\"\n"
     ]
    }
   ],
   "source": [
    "print(res.final_output)"
   ]
  },
  {
   "cell_type": "code",
   "execution_count": 8,
   "id": "16bbf94d",
   "metadata": {},
   "outputs": [
    {
     "name": "stdout",
     "output_type": "stream",
     "text": [
      "Here are the cheapest travel and accommodation options for your trip from Ankara to Amsterdam:\n",
      "\n",
      "### Flight Options\n",
      "- **Cheapest Flight:** $320\n",
      "  - **Total Duration:** 1650 minutes\n",
      "  - **Details:** Multiple layovers, specific details not provided.\n",
      "\n",
      "### Hotel Options\n",
      "1. **Amigo Budget Hostel**\n",
      "   - **Price per night:** $88\n",
      "   - **Total for 6 nights:** $528\n",
      "   - **Amenities:** Free Wi-Fi, Parking\n",
      "\n",
      "2. **via Amsterdam**\n",
      "   - **Price per night:** $90\n",
      "   - **Total for 6 nights:** $540\n",
      "   - **Amenities:** Breakfast, Free Wi-Fi, Parking, Air conditioning, Bar, Restaurant, Kitchen in some rooms, Child-friendly, Smoke-free property\n",
      "\n",
      "### Total Cost\n",
      "- **Cheapest Flight + Amigo Budget Hostel:** $320 + $528 = **$848**\n",
      "- **Cheapest Flight + via Amsterdam:** $320 + $540 = **$860**\n",
      "\n",
      "These are the most cost-effective options for your travel and stay in Amsterdam. Let me know if you need further assistance!\n"
     ]
    }
   ],
   "source": [
    "with trace(myuuid): \n",
    "    new_input = \"what is the total price for the cheapest option\"\n",
    "    input = assemble_conversation(res,new_input)\n",
    "    res = Runner.run_sync(query_rewrite,input)\n",
    "    print(res.final_output)"
   ]
  },
  {
   "cell_type": "code",
   "execution_count": 9,
   "id": "a619d807",
   "metadata": {},
   "outputs": [
    {
     "name": "stdout",
     "output_type": "stream",
     "text": [
      "The total price for the whole trip, including the cheapest flight and hotel options, is as follows:\n",
      "\n",
      "- **Cheapest Flight:** $320\n",
      "- **Amigo Budget Hostel (6 nights):** $528\n",
      "\n",
      "**Total Cost:** $320 (flight) + $528 (hotel) = **$848**\n",
      "\n",
      "This is the total cost for your trip from Ankara to Amsterdam, including flights and accommodation.\n"
     ]
    }
   ],
   "source": [
    "with trace(myuuid): \n",
    "    new_input = \"Please calculate the total price for the whole trip\"\n",
    "    input = assemble_conversation(res,new_input)\n",
    "    res = Runner.run_sync(query_rewrite,input)\n",
    "    print(res.final_output)"
   ]
  },
  {
   "cell_type": "code",
   "execution_count": 10,
   "id": "98a2914d",
   "metadata": {},
   "outputs": [
    {
     "name": "stdout",
     "output_type": "stream",
     "text": [
      "1. What are the available flight options from Ankara Esenboğa Airport (ESB) to London for the outbound date of May 5, 2025, and the return date of May 11, 2025? Please include the cheapest options, flight times, and any layovers.\n",
      "\n",
      "2. What are the cheapest hotel options in London for the dates of May 5, 2025, to May 11, 2025? Include details such as location, amenities, and pricing.\n",
      "\n",
      "3. Are there any package deals or discounts available that combine flights and hotel stays for the specified dates and locations?\n",
      "\n",
      "4. What are the transportation options from London airports to the recommended hotels, including costs and travel times?\n",
      "\n",
      "**Final Detailed Query:**\n",
      "\n",
      "\"Please provide the cheapest travel and accommodation options for a trip from Ankara Esenboğa Airport (ESB) to London with the following details:\n",
      "- Outbound flight on May 5, 2025, and return flight on May 11, 2025, including the cheapest available flights, flight times, and any layovers.\n",
      "- Budget-friendly hotel options in London for the duration of the stay (May 5-11, 2025), with details on location, amenities, and pricing.\n",
      "- Information on any available package deals or discounts that combine flights and hotel stays.\n",
      "- Transportation options from London airports to the recommended hotels, including costs and travel times.\n",
      "\n",
      "The focus should be on finding the most cost-effective options for both flights and accommodations.\"\n"
     ]
    }
   ],
   "source": [
    "with trace(myuuid): \n",
    "    new_input = \"I have changed my mind, I want to go london\"\n",
    "    input = assemble_conversation(res,new_input)\n",
    "    res = Runner.run_sync(query_rewrite,input)\n",
    "    print(res.final_output)"
   ]
  },
  {
   "cell_type": "code",
   "execution_count": null,
   "id": "206383b3",
   "metadata": {},
   "outputs": [
    {
     "name": "stdout",
     "output_type": "stream",
     "text": [
      "I couldn't find flight options from Ankara to London for the specified dates. However, here are some budget-friendly hotel options in London:\n",
      "\n",
      "### Hotel Options\n",
      "1. **St Christopher's Inn London Bridge: The Inn**\n",
      "   - **Price per night:** $68\n",
      "   - **Total for 6 nights:** $408\n",
      "   - **Amenities:** Free breakfast, Free Wi-Fi, Smoke-free property\n",
      "\n",
      "2. **Safestay London Kensington Holland Park**\n",
      "   - **Price per night:** $70\n",
      "   - **Total for 6 nights:** $420\n",
      "   - **Amenities:** Breakfast, Free Wi-Fi, Bar, Restaurant, Child-friendly, Smoke-free property\n",
      "\n",
      "3. **ibis budget London Barking**\n",
      "   - **Price per night:** $77\n",
      "   - **Total for 6 nights:** $462\n",
      "   - **Amenities:** Breakfast ($), Free Wi-Fi, Parking ($), Air conditioning, Pet-friendly, Restaurant, Accessible, Child-friendly, Smoke-free property\n",
      "\n",
      "If you have flexibility with your travel dates or need further assistance, please let me know!\n"
     ]
    }
   ],
   "source": [
    "with trace(myuuid): \n",
    "    new_input = \"same dates for london(LHR) and same starting point\"\n",
    "    input = assemble_conversation(res,new_input)\n",
    "    res = Runner.run_sync(query_rewrite,input)\n",
    "    print(res.final_output)"
   ]
  },
  {
   "cell_type": "code",
   "execution_count": 13,
   "id": "4c5bb986",
   "metadata": {},
   "outputs": [
    {
     "name": "stdout",
     "output_type": "stream",
     "text": [
      "Here are the cheapest travel options for your trip from Ankara to London Heathrow:\n",
      "\n",
      "### Flight Options\n",
      "1. **Cheapest Flight:** $420\n",
      "   - **Total Duration:** 1125 minutes\n",
      "   - **Details:** \n",
      "     - **Segment 1:** Turkish Airlines (TK 2185)\n",
      "       - **Departure:** Ankara (ESB) - 2025-05-05 23:55\n",
      "       - **Arrival:** Istanbul (IST) - 2025-05-06 01:20\n",
      "     - **Segment 2:** Turkish Airlines (TK 1971)\n",
      "       - **Departure:** Istanbul (IST) - 2025-05-06 14:45\n",
      "       - **Arrival:** London Heathrow (LHR) - 2025-05-06 16:40\n",
      "\n",
      "### Hotel Options\n",
      "1. **St Christopher's Inn London Bridge: The Inn**\n",
      "   - **Price per night:** $68\n",
      "   - **Total for 6 nights:** $408\n",
      "   - **Amenities:** Free breakfast, Free Wi-Fi, Smoke-free property\n",
      "\n",
      "2. **Safestay London Kensington Holland Park**\n",
      "   - **Price per night:** $70\n",
      "   - **Total for 6 nights:** $420\n",
      "   - **Amenities:** Breakfast, Free Wi-Fi, Bar, Restaurant, Child-friendly, Smoke-free property\n",
      "\n",
      "### Total Cost\n",
      "- **Cheapest Flight + St Christopher's Inn:** $420 (flight) + $408 (hotel) = **$828**\n",
      "- **Cheapest Flight + Safestay London Kensington:** $420 (flight) + $420 (hotel) = **$840**\n",
      "\n",
      "These are the most cost-effective options for your travel and stay in London. Let me know if you need further assistance!\n"
     ]
    }
   ],
   "source": [
    "with trace(myuuid): \n",
    "    new_input = \"same dates for london(LHR) and same starting point\"\n",
    "    input = assemble_conversation(res,new_input)\n",
    "    res = Runner.run_sync(query_rewrite,input)\n",
    "    print(res.final_output)"
   ]
  },
  {
   "cell_type": "code",
   "execution_count": 12,
   "id": "2119c0d2",
   "metadata": {},
   "outputs": [
    {
     "data": {
      "image/svg+xml": [
       "<?xml version=\"1.0\" encoding=\"UTF-8\" standalone=\"no\"?>\n",
       "<!DOCTYPE svg PUBLIC \"-//W3C//DTD SVG 1.1//EN\"\n",
       " \"http://www.w3.org/Graphics/SVG/1.1/DTD/svg11.dtd\">\n",
       "<!-- Generated by graphviz version 12.2.1 (20241206.2353)\n",
       " -->\n",
       "<!-- Title: G Pages: 1 -->\n",
       "<svg width=\"612pt\" height=\"392pt\"\n",
       " viewBox=\"0.00 0.00 611.96 391.98\" xmlns=\"http://www.w3.org/2000/svg\" xmlns:xlink=\"http://www.w3.org/1999/xlink\">\n",
       "<g id=\"graph0\" class=\"graph\" transform=\"scale(1 1) rotate(0) translate(4 387.98)\">\n",
       "<title>G</title>\n",
       "<polygon fill=\"white\" stroke=\"none\" points=\"-4,4 -4,-387.98 607.96,-387.98 607.96,4 -4,4\"/>\n",
       "<!-- __start__ -->\n",
       "<g id=\"node1\" class=\"node\">\n",
       "<title>__start__</title>\n",
       "<ellipse fill=\"lightblue\" stroke=\"black\" cx=\"322.96\" cy=\"-367.18\" rx=\"51.09\" ry=\"16.79\"/>\n",
       "<text text-anchor=\"middle\" x=\"322.96\" y=\"-361.76\" font-family=\"Arial\" font-size=\"14.00\">__start__</text>\n",
       "</g>\n",
       "<!-- Query Rewrite Agent -->\n",
       "<g id=\"node3\" class=\"node\">\n",
       "<title>Query Rewrite Agent</title>\n",
       "<polygon fill=\"lightyellow\" stroke=\"black\" points=\"393.59,-314.39 252.34,-314.39 252.34,-256.79 393.59,-256.79 393.59,-314.39\"/>\n",
       "<text text-anchor=\"middle\" x=\"322.96\" y=\"-280.16\" font-family=\"Arial\" font-size=\"14.00\">Query Rewrite Agent</text>\n",
       "</g>\n",
       "<!-- __start__&#45;&gt;Query Rewrite Agent -->\n",
       "<g id=\"edge1\" class=\"edge\">\n",
       "<title>__start__&#45;&gt;Query Rewrite Agent</title>\n",
       "<path fill=\"none\" stroke=\"black\" stroke-width=\"1.5\" d=\"M322.96,-350.07C322.96,-343.24 322.96,-334.94 322.96,-326.62\"/>\n",
       "<polygon fill=\"black\" stroke=\"black\" stroke-width=\"1.5\" points=\"326.46,-326.86 322.96,-316.86 319.46,-326.86 326.46,-326.86\"/>\n",
       "</g>\n",
       "<!-- __end__ -->\n",
       "<g id=\"node2\" class=\"node\">\n",
       "<title>__end__</title>\n",
       "<ellipse fill=\"lightblue\" stroke=\"black\" cx=\"270.96\" cy=\"-16.79\" rx=\"48.44\" ry=\"16.79\"/>\n",
       "<text text-anchor=\"middle\" x=\"270.96\" y=\"-11.37\" font-family=\"Arial\" font-size=\"14.00\">__end__</text>\n",
       "</g>\n",
       "<!-- travel components -->\n",
       "<g id=\"node4\" class=\"node\">\n",
       "<title>travel components</title>\n",
       "<polygon fill=\"lightyellow\" stroke=\"black\" points=\"310.46,-220.79 183.46,-220.79 183.46,-163.19 310.46,-163.19 310.46,-220.79\"/>\n",
       "<text text-anchor=\"middle\" x=\"246.96\" y=\"-186.56\" font-family=\"Arial\" font-size=\"14.00\">travel components</text>\n",
       "</g>\n",
       "<!-- Query Rewrite Agent&#45;&gt;travel components -->\n",
       "<g id=\"edge2\" class=\"edge\">\n",
       "<title>Query Rewrite Agent&#45;&gt;travel components</title>\n",
       "<path fill=\"none\" stroke=\"black\" stroke-width=\"1.5\" d=\"M299.74,-256.61C292.88,-248.34 285.26,-239.15 277.99,-230.39\"/>\n",
       "<polygon fill=\"black\" stroke=\"black\" stroke-width=\"1.5\" points=\"280.82,-228.32 271.75,-222.86 275.44,-232.79 280.82,-228.32\"/>\n",
       "</g>\n",
       "<!-- travel_recommender -->\n",
       "<g id=\"node7\" class=\"node\">\n",
       "<title>travel_recommender</title>\n",
       "<polygon fill=\"lightyellow\" stroke=\"black\" points=\"544.59,-220.79 403.34,-220.79 403.34,-163.19 544.59,-163.19 544.59,-220.79\"/>\n",
       "<text text-anchor=\"middle\" x=\"473.96\" y=\"-186.56\" font-family=\"Arial\" font-size=\"14.00\">travel_recommender</text>\n",
       "</g>\n",
       "<!-- Query Rewrite Agent&#45;&gt;travel_recommender -->\n",
       "<g id=\"edge8\" class=\"edge\">\n",
       "<title>Query Rewrite Agent&#45;&gt;travel_recommender</title>\n",
       "<path fill=\"none\" stroke=\"black\" stroke-width=\"1.5\" d=\"M369.5,-256.36C384.57,-247.22 401.45,-236.97 417.18,-227.43\"/>\n",
       "<polygon fill=\"black\" stroke=\"black\" stroke-width=\"1.5\" points=\"418.64,-230.64 425.38,-222.46 415.01,-224.65 418.64,-230.64\"/>\n",
       "</g>\n",
       "<!-- travel components&#45;&gt;__end__ -->\n",
       "<g id=\"edge7\" class=\"edge\">\n",
       "<title>travel components&#45;&gt;__end__</title>\n",
       "<path fill=\"none\" stroke=\"black\" stroke-width=\"1.5\" d=\"M183.01,-182.41C120.8,-172.6 32.7,-154.3 11.96,-127.19 -3.59,-106.85 -4.27,-89.38 11.96,-69.59 36.68,-39.44 142.83,-26.49 211.33,-21.19\"/>\n",
       "<polygon fill=\"black\" stroke=\"black\" stroke-width=\"1.5\" points=\"211.25,-24.71 220.97,-20.49 210.74,-17.73 211.25,-24.71\"/>\n",
       "</g>\n",
       "<!-- Flight_Assistant_agent -->\n",
       "<g id=\"node5\" class=\"node\">\n",
       "<title>Flight_Assistant_agent</title>\n",
       "<ellipse fill=\"lightgreen\" stroke=\"black\" cx=\"128.96\" cy=\"-98.39\" rx=\"107.83\" ry=\"16.79\"/>\n",
       "<text text-anchor=\"middle\" x=\"128.96\" y=\"-92.96\" font-family=\"Arial\" font-size=\"14.00\">Flight_Assistant_agent</text>\n",
       "</g>\n",
       "<!-- travel components&#45;&gt;Flight_Assistant_agent -->\n",
       "<g id=\"edge3\" class=\"edge\">\n",
       "<title>travel components&#45;&gt;Flight_Assistant_agent</title>\n",
       "<path fill=\"none\" stroke=\"black\" stroke-width=\"1.5\" stroke-dasharray=\"1,5\" d=\"M204.31,-162.76C187.16,-149.99 168.05,-135.08 153.31,-122.93\"/>\n",
       "<polygon fill=\"black\" stroke=\"black\" stroke-width=\"1.5\" points=\"155.97,-120.6 146.05,-116.86 151.47,-125.96 155.97,-120.6\"/>\n",
       "</g>\n",
       "<!-- Hotels_Assistant_agent -->\n",
       "<g id=\"node6\" class=\"node\">\n",
       "<title>Hotels_Assistant_agent</title>\n",
       "<ellipse fill=\"lightgreen\" stroke=\"black\" cx=\"365.96\" cy=\"-98.39\" rx=\"111.55\" ry=\"16.79\"/>\n",
       "<text text-anchor=\"middle\" x=\"365.96\" y=\"-92.96\" font-family=\"Arial\" font-size=\"14.00\">Hotels_Assistant_agent</text>\n",
       "</g>\n",
       "<!-- travel components&#45;&gt;Hotels_Assistant_agent -->\n",
       "<g id=\"edge5\" class=\"edge\">\n",
       "<title>travel components&#45;&gt;Hotels_Assistant_agent</title>\n",
       "<path fill=\"none\" stroke=\"black\" stroke-width=\"1.5\" stroke-dasharray=\"1,5\" d=\"M277.35,-162.76C293.64,-149.66 313.71,-134.31 330.68,-121.99\"/>\n",
       "<polygon fill=\"black\" stroke=\"black\" stroke-width=\"1.5\" points=\"332.32,-125.12 338.41,-116.46 328.25,-119.43 332.32,-125.12\"/>\n",
       "</g>\n",
       "<!-- Flight_Assistant_agent&#45;&gt;travel components -->\n",
       "<g id=\"edge4\" class=\"edge\">\n",
       "<title>Flight_Assistant_agent&#45;&gt;travel components</title>\n",
       "<path fill=\"none\" stroke=\"black\" stroke-width=\"1.5\" stroke-dasharray=\"1,5\" d=\"M154.49,-115.13C170,-126.15 190,-141.33 207.48,-155.21\"/>\n",
       "<polygon fill=\"black\" stroke=\"black\" stroke-width=\"1.5\" points=\"205.12,-157.81 215.11,-161.34 209.5,-152.35 205.12,-157.81\"/>\n",
       "</g>\n",
       "<!-- Hotels_Assistant_agent&#45;&gt;travel components -->\n",
       "<g id=\"edge6\" class=\"edge\">\n",
       "<title>Hotels_Assistant_agent&#45;&gt;travel components</title>\n",
       "<path fill=\"none\" stroke=\"black\" stroke-width=\"1.5\" stroke-dasharray=\"1,5\" d=\"M350.43,-115.4C337.36,-126.46 318.11,-141.62 299.72,-155.46\"/>\n",
       "<polygon fill=\"black\" stroke=\"black\" stroke-width=\"1.5\" points=\"297.67,-152.62 291.74,-161.4 301.85,-158.23 297.67,-152.62\"/>\n",
       "</g>\n",
       "<!-- travel_info -->\n",
       "<g id=\"node8\" class=\"node\">\n",
       "<title>travel_info</title>\n",
       "<polygon fill=\"lightyellow\" stroke=\"black\" points=\"603.96,-127.19 495.96,-127.19 495.96,-69.59 603.96,-69.59 603.96,-127.19\"/>\n",
       "<text text-anchor=\"middle\" x=\"549.96\" y=\"-92.96\" font-family=\"Arial\" font-size=\"14.00\">travel_info</text>\n",
       "</g>\n",
       "<!-- travel_recommender&#45;&gt;travel_info -->\n",
       "<g id=\"edge9\" class=\"edge\">\n",
       "<title>travel_recommender&#45;&gt;travel_info</title>\n",
       "<path fill=\"none\" stroke=\"black\" stroke-width=\"1.5\" d=\"M497.18,-163.01C504.04,-154.74 511.66,-145.55 518.93,-136.79\"/>\n",
       "<polygon fill=\"black\" stroke=\"black\" stroke-width=\"1.5\" points=\"521.48,-139.19 525.18,-129.26 516.1,-134.72 521.48,-139.19\"/>\n",
       "</g>\n",
       "<!-- travel_info&#45;&gt;__end__ -->\n",
       "<g id=\"edge10\" class=\"edge\">\n",
       "<title>travel_info&#45;&gt;__end__</title>\n",
       "<path fill=\"none\" stroke=\"black\" stroke-width=\"1.5\" d=\"M495.56,-72.67C492.67,-71.58 489.79,-70.54 486.96,-69.59 432.85,-51.33 369.07,-36.86 324.91,-27.91\"/>\n",
       "<polygon fill=\"black\" stroke=\"black\" stroke-width=\"1.5\" points=\"325.72,-24.5 315.23,-25.98 324.35,-31.37 325.72,-24.5\"/>\n",
       "</g>\n",
       "</g>\n",
       "</svg>\n"
      ],
      "text/plain": [
       "<graphviz.sources.Source at 0x1bf1ad71c40>"
      ]
     },
     "execution_count": 12,
     "metadata": {},
     "output_type": "execute_result"
    }
   ],
   "source": [
    "draw_graph(query_rewrite)"
   ]
  },
  {
   "cell_type": "code",
   "execution_count": null,
   "id": "0420990a",
   "metadata": {},
   "outputs": [],
   "source": []
  }
 ],
 "metadata": {
  "kernelspec": {
   "display_name": "venv",
   "language": "python",
   "name": "python3"
  },
  "language_info": {
   "codemirror_mode": {
    "name": "ipython",
    "version": 3
   },
   "file_extension": ".py",
   "mimetype": "text/x-python",
   "name": "python",
   "nbconvert_exporter": "python",
   "pygments_lexer": "ipython3",
   "version": "3.12.6"
  }
 },
 "nbformat": 4,
 "nbformat_minor": 5
}
