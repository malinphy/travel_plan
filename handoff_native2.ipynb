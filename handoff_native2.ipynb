{
 "cells": [
  {
   "cell_type": "code",
   "execution_count": 1,
   "id": "105bb3da",
   "metadata": {},
   "outputs": [
    {
     "name": "stdout",
     "output_type": "stream",
     "text": [
      "END OF THE SCRIPT\n"
     ]
    }
   ],
   "source": [
    "import os \n",
    "import uuid\n",
    "from agents import Agent, Runner, ModelSettings,trace\n",
    "from helpers.helper_agents import recommender_agent, responsive_agent,query_rewrite, travel_info_agent\n",
    "from helpers.travel_agents import f_agent, h_agent\n",
    "from helpers.function_tools import flight_search_2, hotels_search2\n",
    "from helpers.helper_functions import assemble_conversation\n",
    "from agents.extensions.visualization import draw_graph\n",
    "import nest_asyncio\n",
    "from dotenv import load_dotenv\n",
    "load_dotenv()\n",
    "\n",
    "os.environ[\"OPENAI_API_KEY\"] = os.environ['OPENAI_API_KEY_MALI']\n",
    "nest_asyncio.apply()\n",
    "\n",
    "myuuid = str(uuid.uuid4())"
   ]
  },
  {
   "cell_type": "code",
   "execution_count": 2,
   "id": "03dc3c7c",
   "metadata": {},
   "outputs": [
    {
     "name": "stdout",
     "output_type": "stream",
     "text": [
      "13db8690-960e-4c84-a91e-770a67909a0a\n"
     ]
    }
   ],
   "source": [
    "print(myuuid)"
   ]
  },
  {
   "cell_type": "code",
   "execution_count": 3,
   "id": "cc5fa640",
   "metadata": {},
   "outputs": [],
   "source": [
    "travel_info_agent.tools = [\n",
    "        f_agent.as_tool(\n",
    "            tool_name = \"Flight_Assistant_agent\", \n",
    "            tool_description=\"Arranges flight ticket according to user needs\"\n",
    "        ),\n",
    "        h_agent.as_tool(\n",
    "            tool_name = \"Hotels_Assistant_agent\", \n",
    "            tool_description=\"Arranges hotel accomodations according to user needs\"\n",
    "        ),\n",
    "]\n",
    "travel_info_agent.model = 'gpt-4o'"
   ]
  },
  {
   "cell_type": "code",
   "execution_count": 4,
   "id": "903eb381",
   "metadata": {},
   "outputs": [],
   "source": [
    "query_rewrite.handoffs = [travel_info_agent,recommender_agent]\n",
    "query_rewrite.model = 'gpt-4o'"
   ]
  },
  {
   "cell_type": "code",
   "execution_count": 5,
   "id": "9b65f8ac",
   "metadata": {},
   "outputs": [],
   "source": [
    "ank = \"ankara(ESB)\"\n",
    "ist = \"istanbul(SAW)\"\n",
    "amst = \"amsterdam(AMS)\"\n",
    "pekin = \"Peking(PEK)\"\n",
    "\n",
    "start_point = ank \n",
    "dest_point = amst\n",
    "\n",
    "\n",
    "\n",
    "query_1 = f\"\"\"I want to travel from {start_point} to {dest_point}. \n",
    "The outbound date is 2025-05-05 and the return date will be 2025-05-11. \n",
    "tell me the cheapest travel and hotels options in Amsterdam.\n",
    "\"\"\".strip()\n",
    "\n",
    "query= \"we want to go shwere no too touristy\""
   ]
  },
  {
   "cell_type": "code",
   "execution_count": 6,
   "id": "83da0bc3",
   "metadata": {},
   "outputs": [],
   "source": [
    "with trace(myuuid): \n",
    "    res = Runner.run_sync(query_rewrite,query)"
   ]
  },
  {
   "cell_type": "code",
   "execution_count": 9,
   "id": "d0295da0",
   "metadata": {},
   "outputs": [
    {
     "name": "stdout",
     "output_type": "stream",
     "text": [
      "To assist you better, I'll need to break down your request into more specific questions:\n",
      "\n",
      "1. What type of destination are you interested in (e.g., beach, mountains, countryside)?\n",
      "2. Are there any specific regions or countries you are considering?\n",
      "3. What is the duration of your trip?\n",
      "4. What is your budget range for this trip?\n",
      "5. Are there any specific activities or experiences you are looking for?\n",
      "6. What time of year are you planning to travel?\n",
      "7. How many people are traveling, and are there any special requirements or preferences?\n",
      "\n",
      "Once I have this information, I can create a detailed query to find a suitable destination.\n"
     ]
    }
   ],
   "source": [
    "print(res.final_output)"
   ]
  },
  {
   "cell_type": "code",
   "execution_count": 7,
   "id": "625ddab1",
   "metadata": {},
   "outputs": [
    {
     "ename": "NameError",
     "evalue": "name 'elma' is not defined",
     "output_type": "error",
     "traceback": [
      "\u001b[31m---------------------------------------------------------------------------\u001b[39m",
      "\u001b[31mNameError\u001b[39m                                 Traceback (most recent call last)",
      "\u001b[36mCell\u001b[39m\u001b[36m \u001b[39m\u001b[32mIn[7]\u001b[39m\u001b[32m, line 1\u001b[39m\n\u001b[32m----> \u001b[39m\u001b[32m1\u001b[39m \u001b[43melma\u001b[49m\n",
      "\u001b[31mNameError\u001b[39m: name 'elma' is not defined"
     ]
    }
   ],
   "source": [
    "elma"
   ]
  },
  {
   "cell_type": "code",
   "execution_count": null,
   "id": "d6197f26",
   "metadata": {},
   "outputs": [],
   "source": [
    "print(res.final_output)"
   ]
  },
  {
   "cell_type": "code",
   "execution_count": null,
   "id": "16bbf94d",
   "metadata": {},
   "outputs": [],
   "source": [
    "with trace(myuuid): \n",
    "    new_input = \"what is the total price for the cheapest option\"\n",
    "    input = assemble_conversation(res,new_input)\n",
    "    res = Runner.run_sync(query_rewrite,input)\n",
    "    print(res.final_output)"
   ]
  },
  {
   "cell_type": "code",
   "execution_count": null,
   "id": "a619d807",
   "metadata": {},
   "outputs": [],
   "source": [
    "with trace(myuuid): \n",
    "    new_input = \"Please calculate the total price for the whole trip\"\n",
    "    input = assemble_conversation(res,new_input)\n",
    "    res = Runner.run_sync(query_rewrite,input)\n",
    "    print(res.final_output)"
   ]
  },
  {
   "cell_type": "code",
   "execution_count": null,
   "id": "98a2914d",
   "metadata": {},
   "outputs": [],
   "source": [
    "with trace(myuuid): \n",
    "    new_input = \"I have changed my mind, I want to go london\"\n",
    "    input = assemble_conversation(res,new_input)\n",
    "    res = Runner.run_sync(query_rewrite,input)\n",
    "    print(res.final_output)"
   ]
  },
  {
   "cell_type": "code",
   "execution_count": null,
   "id": "206383b3",
   "metadata": {},
   "outputs": [],
   "source": [
    "with trace(myuuid): \n",
    "    new_input = \"same dates for london(LHR) and same starting point\"\n",
    "    input = assemble_conversation(res,new_input)\n",
    "    res = Runner.run_sync(query_rewrite,input)\n",
    "    print(res.final_output)"
   ]
  },
  {
   "cell_type": "code",
   "execution_count": null,
   "id": "4c5bb986",
   "metadata": {},
   "outputs": [],
   "source": [
    "with trace(myuuid): \n",
    "    new_input = \"same dates for london(LHR) and same starting point\"\n",
    "    input = assemble_conversation(res,new_input)\n",
    "    res = Runner.run_sync(query_rewrite,input)\n",
    "    print(res.final_output)"
   ]
  },
  {
   "cell_type": "code",
   "execution_count": null,
   "id": "2119c0d2",
   "metadata": {},
   "outputs": [],
   "source": [
    "draw_graph(query_rewrite)"
   ]
  },
  {
   "cell_type": "code",
   "execution_count": null,
   "id": "0420990a",
   "metadata": {},
   "outputs": [],
   "source": []
  }
 ],
 "metadata": {
  "kernelspec": {
   "display_name": "venv",
   "language": "python",
   "name": "python3"
  },
  "language_info": {
   "codemirror_mode": {
    "name": "ipython",
    "version": 3
   },
   "file_extension": ".py",
   "mimetype": "text/x-python",
   "name": "python",
   "nbconvert_exporter": "python",
   "pygments_lexer": "ipython3",
   "version": "3.12.6"
  }
 },
 "nbformat": 4,
 "nbformat_minor": 5
}
